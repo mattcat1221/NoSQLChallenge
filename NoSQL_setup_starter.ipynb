{
 "cells": [
  {
   "cell_type": "markdown",
   "id": "9a57c4c6",
   "metadata": {},
   "source": [
    "# Eat Safe, Love"
   ]
  },
  {
   "cell_type": "markdown",
   "id": "064ef857",
   "metadata": {},
   "source": [
    "## Part 1: Database and Jupyter Notebook Set Up"
   ]
  },
  {
   "cell_type": "markdown",
   "id": "664e3c1f",
   "metadata": {},
   "source": [
    "Import the data provided in the `establishments.json` file from your Terminal. Name the database `uk_food` and the collection `establishments`.\n",
    "\n",
    "Within this markdown cell, copy the line of text you used to import the data from your Terminal. This way, future analysts will be able to repeat your process.\n",
    "\n",
    "```python\n",
    "e.g.: Import the dataset with `YOUR IMPORT TEXT HERE`\n",
    "```"
   ]
  },
  {
   "cell_type": "code",
   "execution_count": 1,
   "id": "3ecdd008",
   "metadata": {},
   "outputs": [
    {
     "name": "stdout",
     "output_type": "stream",
     "text": [
      "Requirement already satisfied: Mongo in /usr/local/anaconda3/lib/python3.11/site-packages (0.2.0)\n",
      "Requirement already satisfied: pymongo in /usr/local/anaconda3/lib/python3.11/site-packages (from Mongo) (4.7.3)\n",
      "Requirement already satisfied: dnspython<3.0.0,>=1.16.0 in /Users/cmatthews/.local/lib/python3.11/site-packages (from pymongo->Mongo) (2.6.1)\n",
      "Note: you may need to restart the kernel to use updated packages.\n"
     ]
    }
   ],
   "source": [
    "%pip install Mongo\n",
    "\n",
    "# Import dependencies\n",
    "from pymongo import MongoClient\n",
    "from pprint import pprint"
   ]
  },
  {
   "cell_type": "code",
   "execution_count": 4,
   "id": "5388a246",
   "metadata": {},
   "outputs": [
    {
     "name": "stdout",
     "output_type": "stream",
     "text": [
      "['establishments']\n"
     ]
    }
   ],
   "source": [
    "# Re-import the necessary libraries and re-establish connection\n",
    "\n",
    "from pymongo import MongoClient\n",
    "\n",
    "# Establish connection to the MongoDB server\n",
    "client = MongoClient('localhost', 27017)\n",
    "\n",
    "# Access the 'uk_food' database\n",
    "db = client['uk_food']\n",
    "\n",
    "# List all collections in the 'uk_food' database\n",
    "collections = db.list_collection_names()\n",
    "\n",
    "print(collections)\n"
   ]
  },
  {
   "cell_type": "code",
   "execution_count": 5,
   "id": "59390c4a",
   "metadata": {},
   "outputs": [],
   "source": [
    "# Create an instance of MongoClient\n",
    "mongo = MongoClient(port=27017)"
   ]
  },
  {
   "cell_type": "code",
   "execution_count": 6,
   "id": "7f9ececa",
   "metadata": {},
   "outputs": [
    {
     "name": "stdout",
     "output_type": "stream",
     "text": [
      "Databases: ['admin', 'config', 'local', 'my_database', 'uk_food']\n"
     ]
    }
   ],
   "source": [
    "# Create a MongoClient to the running mongod instance\n",
    "client = MongoClient('localhost', 27017)\n",
    "\n",
    "# Access a database\n",
    "db = client.my_database  # Replace 'my_database' with your database name\n",
    "\n",
    "# Access a collection\n",
    "collection = db.my_collection  # Replace 'my_collection' with your collection name\n",
    "\n",
    "# Insert a single document\n",
    "collection.insert_one({\"name\": \"Alice\", \"age\": 25})\n",
    "\n",
    "# List all databases to confirm the creation\n",
    "databases = client.list_database_names()\n",
    "print(\"Databases:\", databases)\n"
   ]
  },
  {
   "cell_type": "code",
   "execution_count": 7,
   "id": "71e373c1",
   "metadata": {},
   "outputs": [],
   "source": [
    "# assign the uk_food database to a variable name\n",
    "db = mongo['uk_food']"
   ]
  },
  {
   "cell_type": "code",
   "execution_count": 8,
   "id": "ef1b89ed",
   "metadata": {},
   "outputs": [
    {
     "name": "stdout",
     "output_type": "stream",
     "text": [
      "Databases: ['admin', 'config', 'local', 'my_database', 'uk_food']\n"
     ]
    }
   ],
   "source": [
    "# review the collections in our new database\n",
    "mongo = MongoClient(port=27017)\n",
    "client = MongoClient('localhost', 27017)\n",
    "db = client.my_database  \n",
    "\n",
    "collection = db.my_collection  # Replace 'my_collection' with your collection name\n",
    "collection.insert_one({\"name\": \"Alice\", \"age\": 25})\n",
    "databases = client.list_database_names()\n",
    "print(\"Databases:\", databases)\n"
   ]
  },
  {
   "cell_type": "code",
   "execution_count": 9,
   "id": "7092b17a",
   "metadata": {},
   "outputs": [
    {
     "name": "stdout",
     "output_type": "stream",
     "text": [
      "collections: ['establishments']\n"
     ]
    },
    {
     "ename": "NameError",
     "evalue": "name 'document' is not defined",
     "output_type": "error",
     "traceback": [
      "\u001b[0;31m---------------------------------------------------------------------------\u001b[0m",
      "\u001b[0;31mNameError\u001b[0m                                 Traceback (most recent call last)",
      "Cell \u001b[0;32mIn[9], line 14\u001b[0m\n\u001b[1;32m     10\u001b[0m collections \u001b[38;5;241m=\u001b[39m db\u001b[38;5;241m.\u001b[39mlist_collection_names()\n\u001b[1;32m     12\u001b[0m \u001b[38;5;28mprint\u001b[39m(\u001b[38;5;124m\"\u001b[39m\u001b[38;5;124mcollections:\u001b[39m\u001b[38;5;124m\"\u001b[39m, collections)\n\u001b[0;32m---> 14\u001b[0m pprint(document)\n",
      "\u001b[0;31mNameError\u001b[0m: name 'document' is not defined"
     ]
    }
   ],
   "source": [
    "# Access the 'uk_food' database\n",
    "db = client['uk_food']\n",
    "# Establish connection to the MongoDB server\n",
    "client = MongoClient('localhost', 27017)\n",
    "\n",
    "# Access the 'uk_food' database\n",
    "db = client['uk_food']\n",
    "\n",
    "# List all collections in the 'uk_food' database\n",
    "collections = db.list_collection_names()\n",
    "\n",
    "print(\"collections:\", collections)\n",
    "\n",
    "pprint(document)\n"
   ]
  },
  {
   "cell_type": "code",
   "execution_count": 45,
   "id": "18ab463c",
   "metadata": {},
   "outputs": [],
   "source": [
    "from pymongo import MongoClient\n",
    "\n"
   ]
  },
  {
   "cell_type": "code",
   "execution_count": null,
   "id": "6a0d92df",
   "metadata": {},
   "outputs": [],
   "source": []
  },
  {
   "cell_type": "code",
   "execution_count": null,
   "id": "11c9f11b",
   "metadata": {},
   "outputs": [],
   "source": []
  },
  {
   "cell_type": "code",
   "execution_count": null,
   "id": "c0102b88",
   "metadata": {},
   "outputs": [],
   "source": []
  },
  {
   "cell_type": "code",
   "execution_count": null,
   "id": "ffbfdce3",
   "metadata": {},
   "outputs": [],
   "source": []
  },
  {
   "cell_type": "markdown",
   "id": "d5671434",
   "metadata": {},
   "source": [
    "## Part 2: Update the Database"
   ]
  },
  {
   "cell_type": "markdown",
   "id": "314bd884",
   "metadata": {},
   "source": [
    "1. An exciting new halal restaurant just opened in Greenwich, but hasn't been rated yet. The magazine has asked you to include it in your analysis. Add the following restaurant \"Penang Flavours\" to the database."
   ]
  },
  {
   "cell_type": "code",
   "execution_count": 67,
   "id": "c2da7648",
   "metadata": {},
   "outputs": [
    {
     "name": "stdout",
     "output_type": "stream",
     "text": [
      "Collections in 'uk_food' database: ['establishments']\n",
      "Inserted Restaurant:\n",
      "{'AddressLine1': 'Penang Road',\n",
      " 'AddressLine2': 'Greenwich',\n",
      " 'BusinessName': 'Penang Flavours',\n",
      " 'BusinessType': 'Restaurant/Cafe/Canteen',\n",
      " 'LocalAuthorityName': 'Greenwich',\n",
      " 'PostCode': 'SE10 9NN',\n",
      " 'RatingValue': None,\n",
      " '_id': ObjectId('666b8fcf06e58624cb36da2d'),\n",
      " 'latitude': '51.482',\n",
      " 'longitude': '0.007'}\n",
      "BusinessTypeID for 'Restaurant/Cafe/Canteen':\n",
      "{'BusinessType': 'Restaurant/Cafe/Canteen'}\n"
     ]
    },
    {
     "ename": "KeyError",
     "evalue": "'BusinessTypeID'",
     "output_type": "error",
     "traceback": [
      "\u001b[0;31m---------------------------------------------------------------------------\u001b[0m",
      "\u001b[0;31mKeyError\u001b[0m                                  Traceback (most recent call last)",
      "Cell \u001b[0;32mIn[67], line 47\u001b[0m\n\u001b[1;32m     42\u001b[0m pprint(business_type)\n\u001b[1;32m     44\u001b[0m \u001b[38;5;66;03m# 3. Update the new restaurant with the BusinessTypeID found\u001b[39;00m\n\u001b[1;32m     45\u001b[0m collection\u001b[38;5;241m.\u001b[39mupdate_one(\n\u001b[1;32m     46\u001b[0m     {\u001b[38;5;124m\"\u001b[39m\u001b[38;5;124mBusinessName\u001b[39m\u001b[38;5;124m\"\u001b[39m: \u001b[38;5;124m\"\u001b[39m\u001b[38;5;124mPenang Flavours\u001b[39m\u001b[38;5;124m\"\u001b[39m},\n\u001b[0;32m---> 47\u001b[0m     {\u001b[38;5;124m\"\u001b[39m\u001b[38;5;124m$set\u001b[39m\u001b[38;5;124m\"\u001b[39m: {\u001b[38;5;124m\"\u001b[39m\u001b[38;5;124mBusinessTypeID\u001b[39m\u001b[38;5;124m\"\u001b[39m: business_type[\u001b[38;5;124m\"\u001b[39m\u001b[38;5;124mBusinessTypeID\u001b[39m\u001b[38;5;124m\"\u001b[39m]}}\n\u001b[1;32m     48\u001b[0m )\n\u001b[1;32m     50\u001b[0m \u001b[38;5;66;03m# Confirm that the new restaurant was updated\u001b[39;00m\n\u001b[1;32m     51\u001b[0m updated_restaurant \u001b[38;5;241m=\u001b[39m collection\u001b[38;5;241m.\u001b[39mfind_one({\u001b[38;5;124m\"\u001b[39m\u001b[38;5;124mBusinessName\u001b[39m\u001b[38;5;124m\"\u001b[39m: \u001b[38;5;124m\"\u001b[39m\u001b[38;5;124mPenang Flavours\u001b[39m\u001b[38;5;124m\"\u001b[39m})\n",
      "\u001b[0;31mKeyError\u001b[0m: 'BusinessTypeID'"
     ]
    }
   ],
   "source": [
    "# Create a dictionary for the new restaurant data\n",
    "# Import dependencies\n",
    "from pymongo import MongoClient\n",
    "from pprint import pprint\n",
    "\n",
    "# Establish connection to the MongoDB server\n",
    "client = MongoClient('localhost', 27017)\n",
    "\n",
    "# Access the 'uk_food' database\n",
    "db = client['uk_food']\n",
    "\n",
    "# Access the 'establishments' collection\n",
    "collection = db['establishments']\n",
    "\n",
    "# Print out the names of the collections\n",
    "print(\"Collections in 'uk_food' database:\", db.list_collection_names())\n",
    "\n",
    "# 1. Add a new restaurant \"Penang Flavours\" to the database\n",
    "new_restaurant = {\n",
    "    \"BusinessName\": \"Penang Flavours\",\n",
    "    \"BusinessType\": \"Restaurant/Cafe/Canteen\",\n",
    "    \"AddressLine1\": \"Penang Road\",\n",
    "    \"AddressLine2\": \"Greenwich\",\n",
    "    \"PostCode\": \"SE10 9NN\",\n",
    "    \"RatingValue\": None,\n",
    "    \"LocalAuthorityName\": \"Greenwich\",\n",
    "    \"latitude\": \"51.482\",\n",
    "    \"longitude\": \"0.007\"\n",
    "}\n",
    "\n",
    "# Insert the new restaurant into the collection\n",
    "collection.insert_one(new_restaurant)\n",
    "\n",
    "# Check that the new restaurant was inserted\n",
    "inserted_restaurant = collection.find_one({\"BusinessName\": \"Penang Flavours\"})\n",
    "print(\"Inserted Restaurant:\")\n",
    "pprint(inserted_restaurant)\n",
    "\n",
    "# 2. Find the BusinessTypeID for \"Restaurant/Cafe/Canteen\" and return only the BusinessTypeID and BusinessType fields\n",
    "business_type = collection.find_one({\"BusinessType\": \"Restaurant/Cafe/Canteen\"}, {\"BusinessTypeID\": 1, \"BusinessType\": 1, \"_id\": 0})\n",
    "print(\"BusinessTypeID for 'Restaurant/Cafe/Canteen':\")\n",
    "pprint(business_type)\n",
    "\n",
    "# 3. Update the new restaurant with the BusinessTypeID found\n",
    "collection.update_one(\n",
    "    {\"BusinessName\": \"Penang Flavours\"},\n",
    "    {\"$set\": {\"BusinessTypeID\": business_type[\"BusinessTypeID\"]}}\n",
    ")\n",
    "\n",
    "# Confirm that the new restaurant was updated\n",
    "updated_restaurant = collection.find_one({\"BusinessName\": \"Penang Flavours\"})\n",
    "print(\"Updated Restaurant:\")\n",
    "pprint(updated_restaurant)\n",
    "\n",
    "# 4. Remove establishments within the Dover Local Authority\n",
    "dover_count = collection.count_documents({\"LocalAuthorityName\": \"Dover\"})\n",
    "print(f\"Number of documents with 'Dover' Local Authority: {dover_count}\")\n",
    "\n",
    "# Delete documents with 'Dover' Local Authority\n",
    "collection.delete_many({\"LocalAuthorityName\": \"Dover\"})\n",
    "\n",
    "# Confirm deletion\n",
    "dover_count_after_deletion = collection.count_documents({\"LocalAuthorityName\": \"Dover\"})\n",
    "print(f\"Number of documents with 'Dover' Local Authority after deletion: {dover_count_after_deletion}\")\n",
    "\n",
    "# 5. Update latitude and longitude to be stored as decimal numbers\n",
    "collection.update_many(\n",
    "    {},\n",
    "    [{\"$set\": {\"latitude\": {\"$toDouble\": \"$latitude\"}, \"longitude\": {\"$toDouble\": \"$longitude\"}}}]\n",
    ")\n",
    "\n",
    "# 6. Update RatingValue to integer numbers and handle non-numeric ratings\n",
    "non_ratings = [\"AwaitingInspection\", \"Awaiting Inspection\", \"AwaitingPublication\", \"Pass\", \"Exempt\"]\n",
    "collection.update_many({\"RatingValue\": {\"$in\": non_ratings}}, {\"$set\": {\"RatingValue\": None}})\n",
    "collection.update_many({}, [{\"$set\": {\"RatingValue\": {\"$toInt\": \"$RatingValue\"}}}])\n",
    "\n",
    "# Confirm that the coordinates and rating value are now numbers\n",
    "sample_document = collection.find_one()\n",
    "print(\"Sample Document After Updates:\")\n",
    "pprint(sample_document)\n",
    "\n",
    "\n"
   ]
  },
  {
   "cell_type": "code",
   "execution_count": 15,
   "id": "63bb10f9",
   "metadata": {},
   "outputs": [],
   "source": [
    "# Check that the new restaurant was inserted\n"
   ]
  },
  {
   "cell_type": "markdown",
   "id": "0ef4395a",
   "metadata": {},
   "source": [
    "2. Find the BusinessTypeID for \"Restaurant/Cafe/Canteen\" and return only the `BusinessTypeID` and `BusinessType` fields."
   ]
  },
  {
   "cell_type": "code",
   "execution_count": 16,
   "id": "93c63829",
   "metadata": {},
   "outputs": [],
   "source": [
    "# Find the BusinessTypeID for \"Restaurant/Cafe/Canteen\" and return only the BusinessTypeID and BusinessType fields\n"
   ]
  },
  {
   "cell_type": "markdown",
   "id": "4e570caf",
   "metadata": {},
   "source": [
    "3. Update the new restaurant with the `BusinessTypeID` you found."
   ]
  },
  {
   "cell_type": "code",
   "execution_count": 17,
   "id": "7f599f3d",
   "metadata": {},
   "outputs": [],
   "source": [
    "# Update the new restaurant with the correct BusinessTypeID\n"
   ]
  },
  {
   "cell_type": "code",
   "execution_count": 18,
   "id": "a6ad16f7",
   "metadata": {},
   "outputs": [],
   "source": [
    "# Confirm that the new restaurant was updated\n"
   ]
  },
  {
   "cell_type": "markdown",
   "id": "67281254",
   "metadata": {},
   "source": [
    "4. The magazine is not interested in any establishments in Dover, so check how many documents contain the Dover Local Authority. Then, remove any establishments within the Dover Local Authority from the database, and check the number of documents to ensure they were deleted."
   ]
  },
  {
   "cell_type": "code",
   "execution_count": 19,
   "id": "768474a6",
   "metadata": {},
   "outputs": [],
   "source": [
    "# Find how many documents have LocalAuthorityName as \"Dover\"\n"
   ]
  },
  {
   "cell_type": "code",
   "execution_count": 20,
   "id": "a11d5f1b",
   "metadata": {},
   "outputs": [],
   "source": [
    "# Delete all documents where LocalAuthorityName is \"Dover\"\n"
   ]
  },
  {
   "cell_type": "code",
   "execution_count": 21,
   "id": "2a51aba0",
   "metadata": {},
   "outputs": [],
   "source": [
    "# Check if any remaining documents include Dover\n"
   ]
  },
  {
   "cell_type": "code",
   "execution_count": 22,
   "id": "8c356f7b",
   "metadata": {},
   "outputs": [],
   "source": [
    "# Check that other documents remain with 'find_one'\n"
   ]
  },
  {
   "attachments": {},
   "cell_type": "markdown",
   "id": "e9f1662d",
   "metadata": {},
   "source": [
    "5. Some of the number values are stored as strings, when they should be stored as numbers."
   ]
  },
  {
   "attachments": {},
   "cell_type": "markdown",
   "id": "c46df2df",
   "metadata": {},
   "source": [
    "Use `update_many` to convert `latitude` and `longitude` to decimal numbers."
   ]
  },
  {
   "cell_type": "code",
   "execution_count": 23,
   "id": "fd4112ce",
   "metadata": {},
   "outputs": [],
   "source": [
    "# Change the data type from String to Decimal for longitude and latitude\n"
   ]
  },
  {
   "attachments": {},
   "cell_type": "markdown",
   "id": "142e319c",
   "metadata": {},
   "source": [
    "Use `update_many` to convert `RatingValue` to integer numbers."
   ]
  },
  {
   "cell_type": "code",
   "execution_count": 49,
   "id": "04430a5b",
   "metadata": {},
   "outputs": [
    {
     "data": {
      "text/plain": [
       "UpdateResult({'n': 0, 'nModified': 0, 'ok': 1.0, 'updatedExisting': False}, acknowledged=True)"
      ]
     },
     "execution_count": 49,
     "metadata": {},
     "output_type": "execute_result"
    }
   ],
   "source": [
    "from pymongo import MongoClient\n",
    "\n",
    "# Connect to the MongoDB client\n",
    "client = MongoClient('mongodb://localhost:27017/')\n",
    "\n",
    "# Select the database\n",
    "db = client['your_database_name']\n",
    "\n",
    "# Select the collection\n",
    "establishments = db['your_collection_name']\n",
    "\n",
    "# Set non 1-5 Rating Values to Null\n",
    "non_ratings = [\"AwaitingInspection\", \"Awaiting Inspection\", \"AwaitingPublication\", \"Pass\", \"Exempt\"]\n",
    "establishments.update_many({\"RatingValue\": {\"$in\": non_ratings}}, [ {'$set':{ \"RatingValue\" : None}} ])\n",
    "\n",
    "# Set non 1-5 Rating Values to Null\n",
    "non_ratings = [\"AwaitingInspection\", \"Awaiting Inspection\", \"AwaitingPublication\", \"Pass\", \"Exempt\"]\n",
    "establishments.update_many({\"RatingValue\": {\"$in\": non_ratings}}, [ {'$set':{ \"RatingValue\" : None}} ])"
   ]
  },
  {
   "cell_type": "code",
   "execution_count": 50,
   "id": "92524ccc",
   "metadata": {},
   "outputs": [
    {
     "data": {
      "text/plain": [
       "UpdateResult({'n': 0, 'nModified': 0, 'ok': 1.0, 'updatedExisting': False}, acknowledged=True)"
      ]
     },
     "execution_count": 50,
     "metadata": {},
     "output_type": "execute_result"
    }
   ],
   "source": [
    "# Change the data type from String to Integer for RatingValue\n",
    "from pymongo import MongoClient\n",
    "\n",
    "# Connect to the MongoDB client\n",
    "client = MongoClient('mongodb://localhost:27017/')\n",
    "\n",
    "# Select the database\n",
    "db = client['your_database_name']\n",
    "\n",
    "# Select the collection\n",
    "establishments = db['your_collection_name']\n",
    "\n",
    "# Update the data type from String to Integer for RatingValue\n",
    "establishments.update_many(\n",
    "    {\"RatingValue\": {\"$type\": \"string\"}},  # Only update documents where RatingValue is a string\n",
    "    [{\"$set\": {\"RatingValue\": {\"$toInt\": \"$RatingValue\"}}}]\n",
    ")\n"
   ]
  },
  {
   "cell_type": "code",
   "execution_count": 62,
   "id": "0deacaf9",
   "metadata": {},
   "outputs": [
    {
     "data": {
      "text/plain": [
       "<function pprint.pprint(object, stream=None, indent=1, width=80, depth=None, *, compact=False, sort_dicts=True, underscore_numbers=False)>"
      ]
     },
     "execution_count": 62,
     "metadata": {},
     "output_type": "execute_result"
    }
   ],
   "source": [
    "# Check that the coordinates and rating value are now numbers\n",
    "from pymongo import MongoClient\n",
    "\n",
    "# Connect to the MongoDB client\n",
    "client = MongoClient('mongodb://localhost:27017/')\n",
    "\n",
    "# Select the database\n",
    "db = client['your_database_name']\n",
    "\n",
    "# Select the collection\n",
    "establishments = db['your_collection_name']\n",
    "\n",
    "# Retrieve a sample of documents to check the data types\n",
    "sample_documents = establishments.find({}, {'RatingValue': 1, 'coordinates': 1}).limit(10)\n",
    "\n",
    "# Print the sample documents to check the data types\n",
    "for doc in sample_documents:\n",
    "    print(f\"RatingValue: {doc.get('RatingValue')}, Type: {type(doc.get('RatingValue'))}\")\n",
    "    print(f\"Coordinates: {doc.get('coordinates')}, Type: {type(doc.get('coordinates'))}\")\n",
    "    \n",
    "    for doc in sample_documents:\n",
    "        print(f\"RatingValue: {doc.get('RatingValue')}, Type: {type(doc.get('RatingValue'))}\")\n",
    "        if 'coordinates' in doc:\n",
    "         lat, lon = doc['coordinates']\n",
    "        print(f\"Latitude: {lat}, Type: {type(lat)}, Longitude: {lon}, Type: {type(lon)}\")\n",
    "    \n",
    "        print(\"Coordinates: None\")\n",
    "pprint\n"
   ]
  }
 ],
 "metadata": {
  "kernelspec": {
   "display_name": "Python 3 (ipykernel)",
   "language": "python",
   "name": "python3"
  },
  "language_info": {
   "codemirror_mode": {
    "name": "ipython",
    "version": 3
   },
   "file_extension": ".py",
   "mimetype": "text/x-python",
   "name": "python",
   "nbconvert_exporter": "python",
   "pygments_lexer": "ipython3",
   "version": "3.11.7"
  }
 },
 "nbformat": 4,
 "nbformat_minor": 5
}
